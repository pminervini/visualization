{
 "cells": [
  {
   "cell_type": "code",
   "execution_count": 57,
   "metadata": {
    "collapsed": false
   },
   "outputs": [
    {
     "name": "stdout",
     "output_type": "stream",
     "text": [
      "[[ 0.69646919  0.28613933  0.22685145  0.55131477  0.71946897]\n",
      " [ 0.42310646  0.9807642   0.68482974  0.4809319   0.39211752]\n",
      " [ 0.34317802  0.72904971  0.43857224  0.0596779   0.39804426]\n",
      " [ 0.73799541  0.18249173  0.17545176  0.53155137  0.53182759]\n",
      " [ 0.63440096  0.84943179  0.72445532  0.61102351  0.72244338]\n",
      " [ 0.32295891  0.36178866  0.22826323  0.29371405  0.63097612]\n",
      " [ 0.09210494  0.43370117  0.43086276  0.4936851   0.42583029]\n",
      " [ 0.31226122  0.42635131  0.89338916  0.94416002  0.50183668]\n",
      " [ 0.62395295  0.1156184   0.31728548  0.41482621  0.86630916]\n",
      " [ 0.25045537  0.48303426  0.98555979  0.51948512  0.61289453]]\n",
      "(None, 3, 5)\n",
      "(None, 1, 3, 5)\n",
      "(None, 1, 1, 5)\n",
      "[[[[ 0.69646919  0.48303426  0.98555979  0.55131477  0.71946897]]]]\n"
     ]
    }
   ],
   "source": [
    "import random\n",
    "import numpy as np\n",
    "\n",
    "from keras.preprocessing import sequence, text\n",
    "from keras.models import Sequential\n",
    "from keras.layers.core import Dense, Dropout, Activation, Flatten, Reshape\n",
    "from keras.layers.embeddings import Embedding\n",
    "\n",
    "from keras.layers.convolutional import Convolution1D, MaxPooling2D\n",
    "\n",
    "import sys\n",
    "import argparse\n",
    "import getopt\n",
    "import logging\n",
    "\n",
    "import inspect\n",
    "\n",
    "__author__ = 'pasquale'\n",
    "\n",
    "\n",
    "def main(argv):\n",
    "    n_words = 10\n",
    "    embedding_dims = 5\n",
    "    input_length = 3\n",
    "\n",
    "    np.random.seed(123)\n",
    "    weights = np.random.rand(10, 5)\n",
    "\n",
    "    print(weights)\n",
    "\n",
    "    model = Sequential()\n",
    "    \n",
    "    embedding_layer = Embedding(n_words, embedding_dims, input_length=input_length, weights=[weights])\n",
    "    model.add(embedding_layer)\n",
    "    \n",
    "    print(embedding_layer.output_shape)\n",
    "    \n",
    "    reshape_layer = Reshape(dims=(1, input_length, embedding_dims))\n",
    "    model.add(reshape_layer)\n",
    "    \n",
    "    print(reshape_layer.output_shape)\n",
    "\n",
    "    pooling_layer = MaxPooling2D(pool_size=(input_length, 1))\n",
    "    model.add(pooling_layer)\n",
    "    \n",
    "    print(pooling_layer.output_shape)\n",
    "    \n",
    "    #flatten_layer = Flatten()\n",
    "    #model.add(flatten_layer)\n",
    "    \n",
    "    #print(flatten_layer.output_shape)\n",
    "\n",
    "    model.compile(loss='binary_crossentropy', optimizer='rmsprop', class_mode='binary')\n",
    "    \n",
    "    input = [[0, 0, 9]]\n",
    "    X = sequence.pad_sequences(input, maxlen=input_length)\n",
    "    prediction = model.predict(X, batch_size=1)\n",
    "    print(prediction)\n",
    "\n",
    "\n",
    "if __name__ == '__main__':\n",
    "    logging.basicConfig(level=logging.DEBUG)\n",
    "    main(sys.argv[1:])"
   ]
  },
  {
   "cell_type": "code",
   "execution_count": null,
   "metadata": {
    "collapsed": true
   },
   "outputs": [],
   "source": []
  },
  {
   "cell_type": "code",
   "execution_count": null,
   "metadata": {
    "collapsed": true
   },
   "outputs": [],
   "source": []
  }
 ],
 "metadata": {
  "kernelspec": {
   "display_name": "Python 3",
   "language": "python",
   "name": "python3"
  },
  "language_info": {
   "codemirror_mode": {
    "name": "ipython",
    "version": 3
   },
   "file_extension": ".py",
   "mimetype": "text/x-python",
   "name": "python",
   "nbconvert_exporter": "python",
   "pygments_lexer": "ipython3",
   "version": "3.4.2"
  }
 },
 "nbformat": 4,
 "nbformat_minor": 0
}
