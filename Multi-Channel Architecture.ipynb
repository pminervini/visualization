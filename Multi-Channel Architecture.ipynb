{
 "metadata": {
  "name": "",
  "signature": "sha256:5661a312d9e9e82b10cb3b502363149070fbd4a6af5a8aa3db8fd850f01abcb2"
 },
 "nbformat": 3,
 "nbformat_minor": 0,
 "worksheets": [
  {
   "cells": [
    {
     "cell_type": "code",
     "collapsed": false,
     "input": [
      "from __future__ import absolute_import\n",
      "from __future__ import print_function\n",
      "import numpy as np\n",
      "np.random.seed(1337)  # for reproducibility\n",
      "\n",
      "from keras.preprocessing import sequence\n",
      "from keras.optimizers import RMSprop\n",
      "from keras.models import Sequential\n",
      "from keras.layers.core import Dense, Dropout, Activation, Flatten, Merge\n",
      "from keras.layers.embeddings import Embedding\n",
      "from keras.layers.convolutional import Convolution1D, MaxPooling1D\n",
      "from keras.datasets import imdb\n",
      "\n",
      "max_features = 5000\n",
      "maxlen = 100\n",
      "batch_size = 32\n",
      "embedding_dims = 100\n",
      "nb_filter = 250\n",
      "filter_length = 3\n",
      "hidden_dims = 250\n",
      "nb_epoch = 3\n",
      "\n",
      "(X_train, y_train), (X_test, y_test) = imdb.load_data(nb_words=max_features, test_split=0.2)\n",
      "\n",
      "X_train = sequence.pad_sequences(X_train, maxlen=maxlen)\n",
      "\n",
      "model_fixed = Sequential()\n",
      "embedding_fixed = Embedding(max_features, embedding_dims, input_length=maxlen)\n",
      "model_fixed.add(embedding_fixed)\n",
      "\n",
      "model_flex = Sequential()\n",
      "embedding_flex = Embedding(max_features, embedding_dims, input_length=maxlen)\n",
      "model_flex.add(embedding_flex)\n",
      "\n",
      "model = Sequential()\n",
      "merged = Merge([model_fixed, model_flex], mode='concat')\n",
      "model.add(merged)\n",
      "\n",
      "model.compile(loss='binary_crossentropy', optimizer='rmsprop', class_mode=\"binary\")"
     ],
     "language": "python",
     "metadata": {},
     "outputs": [],
     "prompt_number": 17
    },
    {
     "cell_type": "code",
     "collapsed": false,
     "input": [
      "x = X_train[:, 0]\n",
      "x = x.reshape(x.shape[0], 1)\n",
      "y = model.predict([x, x])\n",
      "\n",
      "print(x.shape, y.shape)"
     ],
     "language": "python",
     "metadata": {},
     "outputs": [
      {
       "output_type": "stream",
       "stream": "stdout",
       "text": [
        "(20000, 1) (20000, 1, 200)\n"
       ]
      }
     ],
     "prompt_number": 19
    },
    {
     "cell_type": "code",
     "collapsed": false,
     "input": [],
     "language": "python",
     "metadata": {},
     "outputs": []
    }
   ],
   "metadata": {}
  }
 ]
}